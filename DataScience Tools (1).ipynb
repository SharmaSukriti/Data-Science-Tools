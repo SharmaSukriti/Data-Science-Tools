{
  "metadata": {
    "language_info": {
      "codemirror_mode": {
        "name": "python",
        "version": 3
      },
      "file_extension": ".py",
      "mimetype": "text/x-python",
      "name": "python",
      "nbconvert_exporter": "python",
      "pygments_lexer": "ipython3",
      "version": "3.8"
    },
    "kernelspec": {
      "name": "python",
      "display_name": "Pyolite",
      "language": "python"
    }
  },
  "nbformat_minor": 4,
  "nbformat": 4,
  "cells": [
    {
      "cell_type": "markdown",
      "source": "**Data Science Tools and Ecosystem**",
      "metadata": {}
    },
    {
      "cell_type": "markdown",
      "source": "In this notebook, DataScience Tools and Ecosystem are summarized",
      "metadata": {}
    },
    {
      "cell_type": "markdown",
      "source": "Some of the popular languages that Data Science use are\n1. Python\n2. R\n3. SQL",
      "metadata": {}
    },
    {
      "cell_type": "markdown",
      "source": "Some of the common used libraries by Data Science include:\n1. Pandas\n2. Seaborn\n3. Numpy\n4. Matplotlib\n5. Vegas\n6. PyTorch",
      "metadata": {}
    },
    {
      "cell_type": "markdown",
      "source": "**Some of the Data Science Tools are:**\n",
      "metadata": {}
    },
    {
      "cell_type": "markdown",
      "source": "|DS TOOLS|\n-----------\n|Anaconda|\n|Jupyter Notebooks|\n|RStudio|\n|Apache Spark|\n|Apache Hadoop|",
      "metadata": {}
    },
    {
      "cell_type": "markdown",
      "source": "**Below are few examples of evaluating arithmetic expressions in Python**",
      "metadata": {}
    },
    {
      "cell_type": "code",
      "source": "print((3*4)+5)",
      "metadata": {
        "trusted": true
      },
      "execution_count": 2,
      "outputs": [
        {
          "name": "stdout",
          "text": "17\n",
          "output_type": "stream"
        }
      ]
    },
    {
      "cell_type": "code",
      "source": "print(200/60)",
      "metadata": {
        "trusted": true
      },
      "execution_count": 4,
      "outputs": [
        {
          "name": "stdout",
          "text": "3.3333333333333335\n",
          "output_type": "stream"
        }
      ]
    },
    {
      "cell_type": "markdown",
      "source": "Objectives:\n1. Add comments to code cells\n2. Create markdown cells\n3. Add ordered and unordered lists to markdown cells.\n4. Format content of markdown cells with heading style.",
      "metadata": {}
    },
    {
      "cell_type": "markdown",
      "source": "Author\n\nSukriti",
      "metadata": {}
    },
    {
      "cell_type": "markdown",
      "source": "",
      "metadata": {}
    }
  ]
}